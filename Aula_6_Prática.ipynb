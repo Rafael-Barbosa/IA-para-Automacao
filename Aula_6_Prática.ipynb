{
  "cells": [
    {
      "cell_type": "markdown",
      "metadata": {
        "id": "view-in-github",
        "colab_type": "text"
      },
      "source": [
        "<a href=\"https://colab.research.google.com/github/Rafael-Barbosa/IA-para-Automacao/blob/main/Aula_6_Pr%C3%A1tica.ipynb\" target=\"_parent\"><img src=\"https://colab.research.google.com/assets/colab-badge.svg\" alt=\"Open In Colab\"/></a>"
      ]
    },
    {
      "cell_type": "code",
      "execution_count": 1,
      "metadata": {
        "id": "nbzrAtlpmTYy"
      },
      "outputs": [],
      "source": [
        "#Classe Máquinas\n",
        "class Maquina:\n",
        "  def __init__(self, nome, temperatura, horas_operacao):\n",
        "    self.nome = nome\n",
        "    self.temperatura = temperatura #Celsius\n",
        "    self.horas_operacao = horas_operacao\n",
        "\n",
        "  def precisa_manutencao(self):\n",
        "    return self.temperatura > 75 or self.horas_operacao > 2200"
      ]
    },
    {
      "cell_type": "code",
      "execution_count": 2,
      "metadata": {
        "id": "sNsv4in3muir"
      },
      "outputs": [],
      "source": [
        "#Criar instâncias das máquinas\n",
        "\n",
        "maquinaA = Maquina(\"maquinaA\", 80, 2000)\n",
        "maquinaB = Maquina(\"maquinaB\", 65, 1000)\n",
        "maquinaC = Maquina(\"maquinaC\", 90, 2500)"
      ]
    },
    {
      "cell_type": "code",
      "execution_count": 3,
      "metadata": {
        "id": "Td62qkNgnH2r"
      },
      "outputs": [],
      "source": [
        "maquinas = [maquinaA, maquinaB, maquinaC]"
      ]
    },
    {
      "cell_type": "code",
      "execution_count": 4,
      "metadata": {
        "id": "3kVTdX8mnUph"
      },
      "outputs": [],
      "source": [
        "#Verificar quais máquinas precisam de manutenção\n",
        "maquinas_manutencao = [maquina.nome for maquina in maquinas if maquina.precisa_manutencao()]"
      ]
    },
    {
      "cell_type": "code",
      "execution_count": 5,
      "metadata": {
        "colab": {
          "base_uri": "https://localhost:8080/"
        },
        "id": "yf9JTPK3nqzD",
        "outputId": "18e75a35-1f35-4320-d44d-953f0ab974d3"
      },
      "outputs": [
        {
          "output_type": "execute_result",
          "data": {
            "text/plain": [
              "['maquinaA', 'maquinaC']"
            ]
          },
          "metadata": {},
          "execution_count": 5
        }
      ],
      "source": [
        "maquinas_manutencao"
      ]
    },
    {
      "cell_type": "code",
      "source": [
        "!sudo apt install swi-prolog"
      ],
      "metadata": {
        "colab": {
          "base_uri": "https://localhost:8080/"
        },
        "id": "euJ2PDZjT-_p",
        "outputId": "47a878dc-fb75-48c4-d326-5d271e751843"
      },
      "execution_count": 6,
      "outputs": [
        {
          "output_type": "stream",
          "name": "stdout",
          "text": [
            "Reading package lists... Done\n",
            "Building dependency tree... Done\n",
            "Reading state information... Done\n",
            "swi-prolog is already the newest version (8.4.2+dfsg-2ubuntu1).\n",
            "0 upgraded, 0 newly installed, 0 to remove and 16 not upgraded.\n"
          ]
        }
      ]
    },
    {
      "cell_type": "code",
      "source": [
        "!pip install pyswip"
      ],
      "metadata": {
        "colab": {
          "base_uri": "https://localhost:8080/"
        },
        "id": "WOSQn5noUGHP",
        "outputId": "af201d2e-baae-4c50-d9ad-c3bdbb11b43b"
      },
      "execution_count": 7,
      "outputs": [
        {
          "output_type": "stream",
          "name": "stdout",
          "text": [
            "Requirement already satisfied: pyswip in /usr/local/lib/python3.10/dist-packages (0.2.10)\n"
          ]
        }
      ]
    },
    {
      "cell_type": "code",
      "source": [
        "from pyswip import Prolog"
      ],
      "metadata": {
        "id": "TM71gxGYUNz4"
      },
      "execution_count": 8,
      "outputs": []
    },
    {
      "cell_type": "code",
      "source": [
        "prolog = Prolog()"
      ],
      "metadata": {
        "id": "JKT1Eja8USaM"
      },
      "execution_count": 9,
      "outputs": []
    },
    {
      "cell_type": "code",
      "source": [
        "prolog.assertz(\"temperatura(maquinaA, 80)\")  # temperatura em graus Celsius\n",
        "prolog.assertz(\"temperatura(maquinaB, 65)\")\n",
        "prolog.assertz(\"temperatura(maquinaC, 90)\")\n",
        "prolog.assertz(\"horas_operacao(maquinaA, 2000)\")  # horas de operação\n",
        "prolog.assertz(\"horas_operacao(maquinaB, 1000)\")\n",
        "prolog.assertz(\"horas_operacao(maquinaC, 2500)\")"
      ],
      "metadata": {
        "id": "UuKyqZ4nYCoR"
      },
      "execution_count": 10,
      "outputs": []
    },
    {
      "cell_type": "code",
      "source": [
        "# Adicionar regras ao Prolog\n",
        "prolog.assertz(\"precisa_manutencao(X) :- temperatura(X, T), T > 75\")\n",
        "prolog.assertz(\"precisa_manutencao(X) :- horas_operacao(X, H), H > 2200\")"
      ],
      "metadata": {
        "id": "8VPlXwsUZCup"
      },
      "execution_count": 11,
      "outputs": []
    },
    {
      "cell_type": "code",
      "source": [
        "list(prolog.query(\"precisa_manutencao(X)\"))"
      ],
      "metadata": {
        "colab": {
          "base_uri": "https://localhost:8080/"
        },
        "id": "1Vl5GaLYVQAZ",
        "outputId": "1dcf6308-8510-4f00-ade6-c29983363cc6"
      },
      "execution_count": 15,
      "outputs": [
        {
          "output_type": "execute_result",
          "data": {
            "text/plain": [
              "[{'X': 'maquinaA'}, {'X': 'maquinaC'}, {'X': 'maquinaC'}]"
            ]
          },
          "metadata": {},
          "execution_count": 15
        }
      ]
    },
    {
      "cell_type": "code",
      "source": [
        "# Apareceu duas vezes maquinaC porque ela passou pelas duas regras."
      ],
      "metadata": {
        "id": "HebHCqKSYr-C"
      },
      "execution_count": 13,
      "outputs": []
    }
  ],
  "metadata": {
    "colab": {
      "provenance": [],
      "authorship_tag": "ABX9TyNWRCicbzrxBgar+iFe1utT",
      "include_colab_link": true
    },
    "kernelspec": {
      "display_name": "Python 3",
      "name": "python3"
    },
    "language_info": {
      "name": "python",
      "version": "3.10.10"
    }
  },
  "nbformat": 4,
  "nbformat_minor": 0
}