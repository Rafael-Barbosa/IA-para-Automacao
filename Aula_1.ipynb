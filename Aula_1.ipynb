{
  "nbformat": 4,
  "nbformat_minor": 0,
  "metadata": {
    "colab": {
      "provenance": [],
      "authorship_tag": "ABX9TyOJCBd5HVd1bXxzsaajS/CK",
      "include_colab_link": true
    },
    "kernelspec": {
      "name": "python3",
      "display_name": "Python 3"
    },
    "language_info": {
      "name": "python"
    }
  },
  "cells": [
    {
      "cell_type": "markdown",
      "metadata": {
        "id": "view-in-github",
        "colab_type": "text"
      },
      "source": [
        "<a href=\"https://colab.research.google.com/github/Rafael-Barbosa/IA-para-Automacao/blob/main/Aula_1.ipynb\" target=\"_parent\"><img src=\"https://colab.research.google.com/assets/colab-badge.svg\" alt=\"Open In Colab\"/></a>"
      ]
    },
    {
      "cell_type": "markdown",
      "source": [
        "## Algoritmo de Busca Sequencial ou Linear"
      ],
      "metadata": {
        "id": "juPhcb1NOQOo"
      }
    },
    {
      "cell_type": "code",
      "source": [
        "def LinearSearch(array, n, k):\n",
        "\n",
        "    for j in range(0, n):\n",
        "\n",
        "        if (array[j] == k):\n",
        "\n",
        "            return j\n",
        "\n",
        "    return -1\n",
        "\n",
        "\n",
        "array = [1, 3, 5, 7, 9]\n",
        "\n",
        "k = 7\n",
        "n = len(array)\n",
        "\n",
        "result = LinearSearch(array, n, k)\n",
        "\n",
        "if(result == -1):\n",
        "\n",
        "    print(\"Elemento não Encontrado\")\n",
        "\n",
        "else:\n",
        "\n",
        "    print(\"Elemento encontrado - index: \", result)"
      ],
      "metadata": {
        "colab": {
          "base_uri": "https://localhost:8080/"
        },
        "id": "1eKCTZTbOP7v",
        "outputId": "5aeb71cc-93de-499e-d1af-c87d4f313c50"
      },
      "execution_count": null,
      "outputs": [
        {
          "output_type": "stream",
          "name": "stdout",
          "text": [
            "Elemento encontrado - index:  3\n"
          ]
        }
      ]
    },
    {
      "cell_type": "markdown",
      "source": [
        "## Algoritmo de Busca Binário"
      ],
      "metadata": {
        "id": "00rKpPl1Psc4"
      }
    },
    {
      "cell_type": "code",
      "source": [
        "def binarySearch(arr, k, low, high):\n",
        "\n",
        "    while low <= high:\n",
        "        mid = low + (high - low)//2\n",
        "        if arr[mid] == k:\n",
        "            return mid\n",
        "        elif arr[mid] < k:\n",
        "\n",
        "            low = mid + 1\n",
        "        else:\n",
        "\n",
        "            high = mid - 1\n",
        "    return -1\n",
        "\n",
        "arr = [1, 3, 5, 7, 9]\n",
        "\n",
        "k = 5\n",
        "result = binarySearch(arr, k, 0, len(arr)-1)\n",
        "\n",
        "if result != -1:\n",
        "\n",
        "    print(\"Elemento está presente no index \" + str(result))\n",
        "\n",
        "else:\n",
        "\n",
        "    print(\"Não encontrado\")"
      ],
      "metadata": {
        "colab": {
          "base_uri": "https://localhost:8080/"
        },
        "id": "oKljS8XdOkdp",
        "outputId": "406aeb34-5e29-4ef1-8265-0cd552aadf72"
      },
      "execution_count": 2,
      "outputs": [
        {
          "output_type": "stream",
          "name": "stdout",
          "text": [
            "Elemento está presente no index 2\n"
          ]
        }
      ]
    },
    {
      "cell_type": "markdown",
      "source": [
        "## Algoritmo de Busca Exaustiva (Força Bruta)"
      ],
      "metadata": {
        "id": "lKDnTFTuK2dZ"
      }
    },
    {
      "cell_type": "code",
      "source": [
        "def str_match(text, pattern):\n",
        "\n",
        "    n = len(text)\n",
        "    m = len(pattern)\n",
        "    for i in range(0, n-m+1):\n",
        "        j = 0\n",
        "        while j < m and pattern[j] == text[i+j]:\n",
        "            j += 1\n",
        "        if j == m:\n",
        "            return i\n",
        "    return False"
      ],
      "metadata": {
        "id": "TnevquZUP5Gi"
      },
      "execution_count": null,
      "outputs": []
    },
    {
      "cell_type": "code",
      "source": [
        "text = \"meunomeehrafael\"\n",
        "pattern = \"rafael\"\n",
        "str_match(text, pattern)"
      ],
      "metadata": {
        "colab": {
          "base_uri": "https://localhost:8080/"
        },
        "id": "IBEUQ5vhLBZK",
        "outputId": "c4a27852-31a2-4e4c-ff1b-e390066e278a"
      },
      "execution_count": null,
      "outputs": [
        {
          "output_type": "execute_result",
          "data": {
            "text/plain": [
              "9"
            ]
          },
          "metadata": {},
          "execution_count": 6
        }
      ]
    },
    {
      "cell_type": "markdown",
      "source": [
        "## Algoritmo de Busca Heurística"
      ],
      "metadata": {
        "id": "FDJjkXJSNVVE"
      }
    },
    {
      "cell_type": "code",
      "source": [
        "#Função\n",
        "def generateSquare(n):\n",
        "\n",
        "    magicSquare = [[0 for x in range(n)]\n",
        "                      for y in range(n)]\n",
        "\n",
        "    i = n / 2\n",
        "    j = n - 1\n",
        "\n",
        "    num = 1\n",
        "    while num <= (n * n):\n",
        "        if i == -1 and j == n:\n",
        "            j = n - 2\n",
        "            i = 0\n",
        "        else:\n",
        "\n",
        "            if j == n:\n",
        "                j = 0\n",
        "\n",
        "            if i < 0:\n",
        "                i = n - 1\n",
        "        if magicSquare[int(i)][int(j)]:\n",
        "            j = j - 2\n",
        "            i = i + 1\n",
        "            continue\n",
        "        else:\n",
        "            magicSquare[int(i)][int(j)] = num\n",
        "            num = num + 1\n",
        "        j = j + 1\n",
        "        i = i - 1\n",
        "\n",
        "    print (\"Quadrado Mágico =\", n)\n",
        "    print (\"Soma de Linhas e Colunas\",n * (n * n + 1) / 2, \"\\n\")\n",
        "    for i in range(0, n):\n",
        "        for j in range(0, n):\n",
        "            print('%2d ' % (magicSquare[i][j]),end = '')\n",
        "\n",
        "\n",
        "            if j == n - 1:\n",
        "                print()\n",
        "\n",
        "\n",
        "n=3\n",
        "generateSquare(n)"
      ],
      "metadata": {
        "colab": {
          "base_uri": "https://localhost:8080/"
        },
        "id": "_bH_bclPLUwb",
        "outputId": "56ebc367-4ec8-41d4-b9d0-094cf54c3ad5"
      },
      "execution_count": 5,
      "outputs": [
        {
          "output_type": "stream",
          "name": "stdout",
          "text": [
            "Quadrado Mágico = 3\n",
            "Soma de Linhas e Colunas 15.0 \n",
            "\n",
            " 2  7  6 \n",
            " 9  5  1 \n",
            " 4  3  8 \n"
          ]
        }
      ]
    },
    {
      "cell_type": "markdown",
      "source": [
        "## Algoritmo A*\n",
        "\n",
        "#### https://github.com/BaijayantaRoy/Medium-Article/blob/master/A_Star.ipynb\n",
        "#### Crédito: BaijayantaRoy\n",
        "\n",
        "\n",
        "![image.png](data:image/png;base64,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)\n"
      ],
      "metadata": {
        "id": "89VmG4at2o69"
      }
    },
    {
      "cell_type": "code",
      "source": [
        "import numpy as np\n",
        "\n",
        "class Node:\n",
        "    \"\"\"\n",
        "        A node class for A* Pathfinding\n",
        "        parent is parent of the current Node\n",
        "        position is current position of the Node in the maze\n",
        "        g is cost from start to current Node\n",
        "        h is heuristic based estimated cost for current Node to end Node\n",
        "        f is total cost of present node i.e. :  f = g + h\n",
        "    \"\"\"\n",
        "\n",
        "    def __init__(self, parent=None, position=None):\n",
        "        self.parent = parent\n",
        "        self.position = position\n",
        "\n",
        "        self.g = 0\n",
        "        self.h = 0\n",
        "        self.f = 0\n",
        "    def __eq__(self, other):\n",
        "        return self.position == other.position\n",
        "\n",
        "#This function return the path of the search\n",
        "def return_path(current_node,maze):\n",
        "    path = []\n",
        "    no_rows, no_columns = np.shape(maze)\n",
        "    # here we create the initialized result maze with -1 in every position\n",
        "    result = [[-1 for i in range(no_columns)] for j in range(no_rows)]\n",
        "    current = current_node\n",
        "    while current is not None:\n",
        "        path.append(current.position)\n",
        "        current = current.parent\n",
        "    # Return reversed path as we need to show from start to end path\n",
        "    path = path[::-1]\n",
        "    start_value = 0\n",
        "    # we update the path of start to end found by A-star serch with every step incremented by 1\n",
        "    for i in range(len(path)):\n",
        "        result[path[i][0]][path[i][1]] = start_value\n",
        "        start_value += 1\n",
        "    return result\n",
        "\n",
        "\n",
        "def search(maze, cost, start, end):\n",
        "    \"\"\"\n",
        "        Returns a list of tuples as a path from the given start to the given end in the given maze\n",
        "        :param maze:\n",
        "        :param cost\n",
        "        :param start:\n",
        "        :param end:\n",
        "        :return:\n",
        "    \"\"\"\n",
        "\n",
        "    # Create start and end node with initized values for g, h and f\n",
        "    start_node = Node(None, tuple(start))\n",
        "    start_node.g = start_node.h = start_node.f = 0\n",
        "    end_node = Node(None, tuple(end))\n",
        "    end_node.g = end_node.h = end_node.f = 0\n",
        "\n",
        "    # Initialize both yet_to_visit and visited list\n",
        "    # in this list we will put all node that are yet_to_visit for exploration.\n",
        "    # From here we will find the lowest cost node to expand next\n",
        "    yet_to_visit_list = []\n",
        "    # in this list we will put all node those already explored so that we don't explore it again\n",
        "    visited_list = []\n",
        "\n",
        "    # Add the start node\n",
        "    yet_to_visit_list.append(start_node)\n",
        "\n",
        "    # Adding a stop condition. This is to avoid any infinite loop and stop\n",
        "    # execution after some reasonable number of steps\n",
        "    outer_iterations = 0\n",
        "    max_iterations = (len(maze) // 2) ** 10\n",
        "\n",
        "    # what squares do we search . serarch movement is left-right-top-bottom\n",
        "    #(4 movements) from every positon\n",
        "\n",
        "    move  =  [[-1, 0 ], # go up\n",
        "              [ 0, -1], # go left\n",
        "              [ 1, 0 ], # go down\n",
        "              [ 0, 1 ]] # go right\n",
        "\n",
        "\n",
        "    \"\"\"\n",
        "        1) We first get the current node by comparing all f cost and selecting the lowest cost node for further expansion\n",
        "        2) Check max iteration reached or not . Set a message and stop execution\n",
        "        3) Remove the selected node from yet_to_visit list and add this node to visited list\n",
        "        4) Perofmr Goal test and return the path else perform below steps\n",
        "        5) For selected node find out all children (use move to find children)\n",
        "            a) get the current postion for the selected node (this becomes parent node for the children)\n",
        "            b) check if a valid position exist (boundary will make few nodes invalid)\n",
        "            c) if any node is a wall then ignore that\n",
        "            d) add to valid children node list for the selected parent\n",
        "\n",
        "            For all the children node\n",
        "                a) if child in visited list then ignore it and try next node\n",
        "                b) calculate child node g, h and f values\n",
        "                c) if child in yet_to_visit list then ignore it\n",
        "                d) else move the child to yet_to_visit list\n",
        "    \"\"\"\n",
        "    #find maze has got how many rows and columns\n",
        "    no_rows, no_columns = np.shape(maze)\n",
        "\n",
        "    # Loop until you find the end\n",
        "\n",
        "    while len(yet_to_visit_list) > 0:\n",
        "\n",
        "        # Every time any node is referred from yet_to_visit list, counter of limit operation incremented\n",
        "        outer_iterations += 1\n",
        "\n",
        "\n",
        "        # Get the current node\n",
        "        current_node = yet_to_visit_list[0]\n",
        "        current_index = 0\n",
        "        for index, item in enumerate(yet_to_visit_list):\n",
        "            if item.f < current_node.f:\n",
        "                current_node = item\n",
        "                current_index = index\n",
        "\n",
        "        # if we hit this point return the path such as it may be no solution or\n",
        "        # computation cost is too high\n",
        "        if outer_iterations > max_iterations:\n",
        "            print (\"giving up on pathfinding too many iterations\")\n",
        "            return return_path(current_node,maze)\n",
        "\n",
        "        # Pop current node out off yet_to_visit list, add to visited list\n",
        "        yet_to_visit_list.pop(current_index)\n",
        "        visited_list.append(current_node)\n",
        "\n",
        "        # test if goal is reached or not, if yes then return the path\n",
        "        if current_node == end_node:\n",
        "            return return_path(current_node,maze)\n",
        "\n",
        "        # Generate children from all adjacent squares\n",
        "        children = []\n",
        "\n",
        "        for new_position in move:\n",
        "\n",
        "            # Get node position\n",
        "            node_position = (current_node.position[0] + new_position[0], current_node.position[1] + new_position[1])\n",
        "\n",
        "            # Make sure within range (check if within maze boundary)\n",
        "            if (node_position[0] > (no_rows - 1) or\n",
        "                node_position[0] < 0 or\n",
        "                node_position[1] > (no_columns -1) or\n",
        "                node_position[1] < 0):\n",
        "                continue\n",
        "\n",
        "            # Make sure walkable terrain\n",
        "            if maze[node_position[0]][node_position[1]] != 0:\n",
        "                continue\n",
        "\n",
        "            # Create new node\n",
        "            new_node = Node(current_node, node_position)\n",
        "\n",
        "            # Append\n",
        "            children.append(new_node)\n",
        "\n",
        "        # Loop through children\n",
        "        for child in children:\n",
        "\n",
        "            # Child is on the visited list (search entire visited list)\n",
        "            if len([visited_child for visited_child in visited_list if visited_child == child]) > 0:\n",
        "                continue\n",
        "\n",
        "            # Create the f, g, and h values\n",
        "            child.g = current_node.g + cost\n",
        "            ## Heuristic costs calculated here, this is using eucledian distance\n",
        "            child.h = (((child.position[0] - end_node.position[0]) ** 2) +\n",
        "                       ((child.position[1] - end_node.position[1]) ** 2))\n",
        "\n",
        "            child.f = child.g + child.h\n",
        "\n",
        "            # Child is already in the yet_to_visit list and g cost is already lower\n",
        "            if len([i for i in yet_to_visit_list if child == i and child.g > i.g]) > 0:\n",
        "                continue\n",
        "\n",
        "            # Add the child to the yet_to_visit list\n",
        "            yet_to_visit_list.append(child)\n",
        "\n",
        "\n",
        "if __name__ == '__main__':\n",
        "\n",
        "    maze = [[0, 1, 0, 0, 0, 0],\n",
        "            [0, 0, 0, 0, 0, 0],\n",
        "            [0, 1, 0, 1, 0, 0],\n",
        "            [0, 1, 0, 0, 1, 0],\n",
        "            [0, 0, 0, 0, 1, 0]]\n",
        "\n",
        "    start = [0, 0] # starting position\n",
        "    end = [4,5] # ending position\n",
        "    cost = 1 # cost per movement\n",
        "\n",
        "    path = search(maze,cost, start, end)\n",
        "    print(path)"
      ],
      "metadata": {
        "colab": {
          "base_uri": "https://localhost:8080/"
        },
        "id": "tHkbXiBPNlad",
        "outputId": "89f39153-d2a2-4cae-de58-6ec4e29c4492"
      },
      "execution_count": 6,
      "outputs": [
        {
          "output_type": "stream",
          "name": "stdout",
          "text": [
            "[[0, -1, -1, -1, -1, -1], [1, 2, 3, 4, 5, -1], [-1, -1, -1, -1, 6, 7], [-1, -1, -1, -1, -1, 8], [-1, -1, -1, -1, -1, 9]]\n"
          ]
        }
      ]
    },
    {
      "cell_type": "markdown",
      "source": [
        "![image.png](data:image/png;base64,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)"
      ],
      "metadata": {
        "id": "ZyMbPwA93eF3"
      }
    },
    {
      "cell_type": "code",
      "source": [],
      "metadata": {
        "id": "r36keKrLxGmB"
      },
      "execution_count": null,
      "outputs": []
    }
  ]
}